{
  "nbformat": 4,
  "nbformat_minor": 0,
  "metadata": {
    "colab": {
      "provenance": [],
      "collapsed_sections": [
        "1kkRMXsHSeAP",
        "GC_SsBMwVUUX",
        "j1KVMVUpoW51",
        "wgzjKVqU2oLa",
        "Jnona_qh6h9A",
        "yublcuutFIBV",
        "byBUZ6GEHbyW"
      ],
      "gpuType": "T4"
    },
    "kernelspec": {
      "name": "python3",
      "display_name": "Python 3"
    },
    "language_info": {
      "name": "python"
    },
    "accelerator": "GPU",
    "widgets": {
      "application/vnd.jupyter.widget-state+json": {
        "21f316215f4c462da2da374597503684": {
          "model_module": "@jupyter-widgets/controls",
          "model_name": "HBoxModel",
          "model_module_version": "1.5.0",
          "state": {
            "_dom_classes": [],
            "_model_module": "@jupyter-widgets/controls",
            "_model_module_version": "1.5.0",
            "_model_name": "HBoxModel",
            "_view_count": null,
            "_view_module": "@jupyter-widgets/controls",
            "_view_module_version": "1.5.0",
            "_view_name": "HBoxView",
            "box_style": "",
            "children": [
              "IPY_MODEL_d5e69ae81410469c81d4a5d2659f2b99",
              "IPY_MODEL_453b67b8d0c94b9bbfb8a1b18168842f",
              "IPY_MODEL_d64b23cc9beb41e294b5e72b6df717a4"
            ],
            "layout": "IPY_MODEL_cf65ccd0700c479f8ed7814956516871"
          }
        },
        "d5e69ae81410469c81d4a5d2659f2b99": {
          "model_module": "@jupyter-widgets/controls",
          "model_name": "HTMLModel",
          "model_module_version": "1.5.0",
          "state": {
            "_dom_classes": [],
            "_model_module": "@jupyter-widgets/controls",
            "_model_module_version": "1.5.0",
            "_model_name": "HTMLModel",
            "_view_count": null,
            "_view_module": "@jupyter-widgets/controls",
            "_view_module_version": "1.5.0",
            "_view_name": "HTMLView",
            "description": "",
            "description_tooltip": null,
            "layout": "IPY_MODEL_5aa7d36c36394261afe9d219f6fc5450",
            "placeholder": "​",
            "style": "IPY_MODEL_aa59b23325954661a4ae9e3f6d352543",
            "value": "100%"
          }
        },
        "453b67b8d0c94b9bbfb8a1b18168842f": {
          "model_module": "@jupyter-widgets/controls",
          "model_name": "FloatProgressModel",
          "model_module_version": "1.5.0",
          "state": {
            "_dom_classes": [],
            "_model_module": "@jupyter-widgets/controls",
            "_model_module_version": "1.5.0",
            "_model_name": "FloatProgressModel",
            "_view_count": null,
            "_view_module": "@jupyter-widgets/controls",
            "_view_module_version": "1.5.0",
            "_view_name": "ProgressView",
            "bar_style": "success",
            "description": "",
            "description_tooltip": null,
            "layout": "IPY_MODEL_0f51127292454da3a2c0027c681d9b90",
            "max": 8091,
            "min": 0,
            "orientation": "horizontal",
            "style": "IPY_MODEL_9c2965b818d14175b3b40a6b8ec1023d",
            "value": 8091
          }
        },
        "d64b23cc9beb41e294b5e72b6df717a4": {
          "model_module": "@jupyter-widgets/controls",
          "model_name": "HTMLModel",
          "model_module_version": "1.5.0",
          "state": {
            "_dom_classes": [],
            "_model_module": "@jupyter-widgets/controls",
            "_model_module_version": "1.5.0",
            "_model_name": "HTMLModel",
            "_view_count": null,
            "_view_module": "@jupyter-widgets/controls",
            "_view_module_version": "1.5.0",
            "_view_name": "HTMLView",
            "description": "",
            "description_tooltip": null,
            "layout": "IPY_MODEL_dffe397a606e4d71bab7b68224c57def",
            "placeholder": "​",
            "style": "IPY_MODEL_ac3ff0cca99b463fbfd7dd5662554fe2",
            "value": " 8091/8091 [12:12&lt;00:00, 12.46it/s]"
          }
        },
        "cf65ccd0700c479f8ed7814956516871": {
          "model_module": "@jupyter-widgets/base",
          "model_name": "LayoutModel",
          "model_module_version": "1.2.0",
          "state": {
            "_model_module": "@jupyter-widgets/base",
            "_model_module_version": "1.2.0",
            "_model_name": "LayoutModel",
            "_view_count": null,
            "_view_module": "@jupyter-widgets/base",
            "_view_module_version": "1.2.0",
            "_view_name": "LayoutView",
            "align_content": null,
            "align_items": null,
            "align_self": null,
            "border": null,
            "bottom": null,
            "display": null,
            "flex": null,
            "flex_flow": null,
            "grid_area": null,
            "grid_auto_columns": null,
            "grid_auto_flow": null,
            "grid_auto_rows": null,
            "grid_column": null,
            "grid_gap": null,
            "grid_row": null,
            "grid_template_areas": null,
            "grid_template_columns": null,
            "grid_template_rows": null,
            "height": null,
            "justify_content": null,
            "justify_items": null,
            "left": null,
            "margin": null,
            "max_height": null,
            "max_width": null,
            "min_height": null,
            "min_width": null,
            "object_fit": null,
            "object_position": null,
            "order": null,
            "overflow": null,
            "overflow_x": null,
            "overflow_y": null,
            "padding": null,
            "right": null,
            "top": null,
            "visibility": null,
            "width": null
          }
        },
        "5aa7d36c36394261afe9d219f6fc5450": {
          "model_module": "@jupyter-widgets/base",
          "model_name": "LayoutModel",
          "model_module_version": "1.2.0",
          "state": {
            "_model_module": "@jupyter-widgets/base",
            "_model_module_version": "1.2.0",
            "_model_name": "LayoutModel",
            "_view_count": null,
            "_view_module": "@jupyter-widgets/base",
            "_view_module_version": "1.2.0",
            "_view_name": "LayoutView",
            "align_content": null,
            "align_items": null,
            "align_self": null,
            "border": null,
            "bottom": null,
            "display": null,
            "flex": null,
            "flex_flow": null,
            "grid_area": null,
            "grid_auto_columns": null,
            "grid_auto_flow": null,
            "grid_auto_rows": null,
            "grid_column": null,
            "grid_gap": null,
            "grid_row": null,
            "grid_template_areas": null,
            "grid_template_columns": null,
            "grid_template_rows": null,
            "height": null,
            "justify_content": null,
            "justify_items": null,
            "left": null,
            "margin": null,
            "max_height": null,
            "max_width": null,
            "min_height": null,
            "min_width": null,
            "object_fit": null,
            "object_position": null,
            "order": null,
            "overflow": null,
            "overflow_x": null,
            "overflow_y": null,
            "padding": null,
            "right": null,
            "top": null,
            "visibility": null,
            "width": null
          }
        },
        "aa59b23325954661a4ae9e3f6d352543": {
          "model_module": "@jupyter-widgets/controls",
          "model_name": "DescriptionStyleModel",
          "model_module_version": "1.5.0",
          "state": {
            "_model_module": "@jupyter-widgets/controls",
            "_model_module_version": "1.5.0",
            "_model_name": "DescriptionStyleModel",
            "_view_count": null,
            "_view_module": "@jupyter-widgets/base",
            "_view_module_version": "1.2.0",
            "_view_name": "StyleView",
            "description_width": ""
          }
        },
        "0f51127292454da3a2c0027c681d9b90": {
          "model_module": "@jupyter-widgets/base",
          "model_name": "LayoutModel",
          "model_module_version": "1.2.0",
          "state": {
            "_model_module": "@jupyter-widgets/base",
            "_model_module_version": "1.2.0",
            "_model_name": "LayoutModel",
            "_view_count": null,
            "_view_module": "@jupyter-widgets/base",
            "_view_module_version": "1.2.0",
            "_view_name": "LayoutView",
            "align_content": null,
            "align_items": null,
            "align_self": null,
            "border": null,
            "bottom": null,
            "display": null,
            "flex": null,
            "flex_flow": null,
            "grid_area": null,
            "grid_auto_columns": null,
            "grid_auto_flow": null,
            "grid_auto_rows": null,
            "grid_column": null,
            "grid_gap": null,
            "grid_row": null,
            "grid_template_areas": null,
            "grid_template_columns": null,
            "grid_template_rows": null,
            "height": null,
            "justify_content": null,
            "justify_items": null,
            "left": null,
            "margin": null,
            "max_height": null,
            "max_width": null,
            "min_height": null,
            "min_width": null,
            "object_fit": null,
            "object_position": null,
            "order": null,
            "overflow": null,
            "overflow_x": null,
            "overflow_y": null,
            "padding": null,
            "right": null,
            "top": null,
            "visibility": null,
            "width": null
          }
        },
        "9c2965b818d14175b3b40a6b8ec1023d": {
          "model_module": "@jupyter-widgets/controls",
          "model_name": "ProgressStyleModel",
          "model_module_version": "1.5.0",
          "state": {
            "_model_module": "@jupyter-widgets/controls",
            "_model_module_version": "1.5.0",
            "_model_name": "ProgressStyleModel",
            "_view_count": null,
            "_view_module": "@jupyter-widgets/base",
            "_view_module_version": "1.2.0",
            "_view_name": "StyleView",
            "bar_color": null,
            "description_width": ""
          }
        },
        "dffe397a606e4d71bab7b68224c57def": {
          "model_module": "@jupyter-widgets/base",
          "model_name": "LayoutModel",
          "model_module_version": "1.2.0",
          "state": {
            "_model_module": "@jupyter-widgets/base",
            "_model_module_version": "1.2.0",
            "_model_name": "LayoutModel",
            "_view_count": null,
            "_view_module": "@jupyter-widgets/base",
            "_view_module_version": "1.2.0",
            "_view_name": "LayoutView",
            "align_content": null,
            "align_items": null,
            "align_self": null,
            "border": null,
            "bottom": null,
            "display": null,
            "flex": null,
            "flex_flow": null,
            "grid_area": null,
            "grid_auto_columns": null,
            "grid_auto_flow": null,
            "grid_auto_rows": null,
            "grid_column": null,
            "grid_gap": null,
            "grid_row": null,
            "grid_template_areas": null,
            "grid_template_columns": null,
            "grid_template_rows": null,
            "height": null,
            "justify_content": null,
            "justify_items": null,
            "left": null,
            "margin": null,
            "max_height": null,
            "max_width": null,
            "min_height": null,
            "min_width": null,
            "object_fit": null,
            "object_position": null,
            "order": null,
            "overflow": null,
            "overflow_x": null,
            "overflow_y": null,
            "padding": null,
            "right": null,
            "top": null,
            "visibility": null,
            "width": null
          }
        },
        "ac3ff0cca99b463fbfd7dd5662554fe2": {
          "model_module": "@jupyter-widgets/controls",
          "model_name": "DescriptionStyleModel",
          "model_module_version": "1.5.0",
          "state": {
            "_model_module": "@jupyter-widgets/controls",
            "_model_module_version": "1.5.0",
            "_model_name": "DescriptionStyleModel",
            "_view_count": null,
            "_view_module": "@jupyter-widgets/base",
            "_view_module_version": "1.2.0",
            "_view_name": "StyleView",
            "description_width": ""
          }
        },
        "a5ed919d66d24a109152a45789ab7581": {
          "model_module": "@jupyter-widgets/controls",
          "model_name": "HBoxModel",
          "model_module_version": "1.5.0",
          "state": {
            "_dom_classes": [],
            "_model_module": "@jupyter-widgets/controls",
            "_model_module_version": "1.5.0",
            "_model_name": "HBoxModel",
            "_view_count": null,
            "_view_module": "@jupyter-widgets/controls",
            "_view_module_version": "1.5.0",
            "_view_name": "HBoxView",
            "box_style": "",
            "children": [
              "IPY_MODEL_12d7795e4053477db02ccfb52c93812e",
              "IPY_MODEL_55e994a9fec543a294f4e91cb97040f4",
              "IPY_MODEL_63a0a898ca85498d957ce1e2f2eb9a73"
            ],
            "layout": "IPY_MODEL_0e96d530fc004145a3974eb11e3d5880"
          }
        },
        "12d7795e4053477db02ccfb52c93812e": {
          "model_module": "@jupyter-widgets/controls",
          "model_name": "HTMLModel",
          "model_module_version": "1.5.0",
          "state": {
            "_dom_classes": [],
            "_model_module": "@jupyter-widgets/controls",
            "_model_module_version": "1.5.0",
            "_model_name": "HTMLModel",
            "_view_count": null,
            "_view_module": "@jupyter-widgets/controls",
            "_view_module_version": "1.5.0",
            "_view_name": "HTMLView",
            "description": "",
            "description_tooltip": null,
            "layout": "IPY_MODEL_17335569059c48a2b4560f221076f91a",
            "placeholder": "​",
            "style": "IPY_MODEL_eef7f5e7706d470cb2153eaf747f3df3",
            "value": "100%"
          }
        },
        "55e994a9fec543a294f4e91cb97040f4": {
          "model_module": "@jupyter-widgets/controls",
          "model_name": "FloatProgressModel",
          "model_module_version": "1.5.0",
          "state": {
            "_dom_classes": [],
            "_model_module": "@jupyter-widgets/controls",
            "_model_module_version": "1.5.0",
            "_model_name": "FloatProgressModel",
            "_view_count": null,
            "_view_module": "@jupyter-widgets/controls",
            "_view_module_version": "1.5.0",
            "_view_name": "ProgressView",
            "bar_style": "success",
            "description": "",
            "description_tooltip": null,
            "layout": "IPY_MODEL_003faa12585a486c85f2f061ed3695d1",
            "max": 40456,
            "min": 0,
            "orientation": "horizontal",
            "style": "IPY_MODEL_856975ece6404a0d8477480b45a2230b",
            "value": 40456
          }
        },
        "63a0a898ca85498d957ce1e2f2eb9a73": {
          "model_module": "@jupyter-widgets/controls",
          "model_name": "HTMLModel",
          "model_module_version": "1.5.0",
          "state": {
            "_dom_classes": [],
            "_model_module": "@jupyter-widgets/controls",
            "_model_module_version": "1.5.0",
            "_model_name": "HTMLModel",
            "_view_count": null,
            "_view_module": "@jupyter-widgets/controls",
            "_view_module_version": "1.5.0",
            "_view_name": "HTMLView",
            "description": "",
            "description_tooltip": null,
            "layout": "IPY_MODEL_17f61f0e475b4f07bd8315e32b790232",
            "placeholder": "​",
            "style": "IPY_MODEL_bac4b88468d247438b42d817e83a1a66",
            "value": " 40456/40456 [00:00&lt;00:00, 462438.20it/s]"
          }
        },
        "0e96d530fc004145a3974eb11e3d5880": {
          "model_module": "@jupyter-widgets/base",
          "model_name": "LayoutModel",
          "model_module_version": "1.2.0",
          "state": {
            "_model_module": "@jupyter-widgets/base",
            "_model_module_version": "1.2.0",
            "_model_name": "LayoutModel",
            "_view_count": null,
            "_view_module": "@jupyter-widgets/base",
            "_view_module_version": "1.2.0",
            "_view_name": "LayoutView",
            "align_content": null,
            "align_items": null,
            "align_self": null,
            "border": null,
            "bottom": null,
            "display": null,
            "flex": null,
            "flex_flow": null,
            "grid_area": null,
            "grid_auto_columns": null,
            "grid_auto_flow": null,
            "grid_auto_rows": null,
            "grid_column": null,
            "grid_gap": null,
            "grid_row": null,
            "grid_template_areas": null,
            "grid_template_columns": null,
            "grid_template_rows": null,
            "height": null,
            "justify_content": null,
            "justify_items": null,
            "left": null,
            "margin": null,
            "max_height": null,
            "max_width": null,
            "min_height": null,
            "min_width": null,
            "object_fit": null,
            "object_position": null,
            "order": null,
            "overflow": null,
            "overflow_x": null,
            "overflow_y": null,
            "padding": null,
            "right": null,
            "top": null,
            "visibility": null,
            "width": null
          }
        },
        "17335569059c48a2b4560f221076f91a": {
          "model_module": "@jupyter-widgets/base",
          "model_name": "LayoutModel",
          "model_module_version": "1.2.0",
          "state": {
            "_model_module": "@jupyter-widgets/base",
            "_model_module_version": "1.2.0",
            "_model_name": "LayoutModel",
            "_view_count": null,
            "_view_module": "@jupyter-widgets/base",
            "_view_module_version": "1.2.0",
            "_view_name": "LayoutView",
            "align_content": null,
            "align_items": null,
            "align_self": null,
            "border": null,
            "bottom": null,
            "display": null,
            "flex": null,
            "flex_flow": null,
            "grid_area": null,
            "grid_auto_columns": null,
            "grid_auto_flow": null,
            "grid_auto_rows": null,
            "grid_column": null,
            "grid_gap": null,
            "grid_row": null,
            "grid_template_areas": null,
            "grid_template_columns": null,
            "grid_template_rows": null,
            "height": null,
            "justify_content": null,
            "justify_items": null,
            "left": null,
            "margin": null,
            "max_height": null,
            "max_width": null,
            "min_height": null,
            "min_width": null,
            "object_fit": null,
            "object_position": null,
            "order": null,
            "overflow": null,
            "overflow_x": null,
            "overflow_y": null,
            "padding": null,
            "right": null,
            "top": null,
            "visibility": null,
            "width": null
          }
        },
        "eef7f5e7706d470cb2153eaf747f3df3": {
          "model_module": "@jupyter-widgets/controls",
          "model_name": "DescriptionStyleModel",
          "model_module_version": "1.5.0",
          "state": {
            "_model_module": "@jupyter-widgets/controls",
            "_model_module_version": "1.5.0",
            "_model_name": "DescriptionStyleModel",
            "_view_count": null,
            "_view_module": "@jupyter-widgets/base",
            "_view_module_version": "1.2.0",
            "_view_name": "StyleView",
            "description_width": ""
          }
        },
        "003faa12585a486c85f2f061ed3695d1": {
          "model_module": "@jupyter-widgets/base",
          "model_name": "LayoutModel",
          "model_module_version": "1.2.0",
          "state": {
            "_model_module": "@jupyter-widgets/base",
            "_model_module_version": "1.2.0",
            "_model_name": "LayoutModel",
            "_view_count": null,
            "_view_module": "@jupyter-widgets/base",
            "_view_module_version": "1.2.0",
            "_view_name": "LayoutView",
            "align_content": null,
            "align_items": null,
            "align_self": null,
            "border": null,
            "bottom": null,
            "display": null,
            "flex": null,
            "flex_flow": null,
            "grid_area": null,
            "grid_auto_columns": null,
            "grid_auto_flow": null,
            "grid_auto_rows": null,
            "grid_column": null,
            "grid_gap": null,
            "grid_row": null,
            "grid_template_areas": null,
            "grid_template_columns": null,
            "grid_template_rows": null,
            "height": null,
            "justify_content": null,
            "justify_items": null,
            "left": null,
            "margin": null,
            "max_height": null,
            "max_width": null,
            "min_height": null,
            "min_width": null,
            "object_fit": null,
            "object_position": null,
            "order": null,
            "overflow": null,
            "overflow_x": null,
            "overflow_y": null,
            "padding": null,
            "right": null,
            "top": null,
            "visibility": null,
            "width": null
          }
        },
        "856975ece6404a0d8477480b45a2230b": {
          "model_module": "@jupyter-widgets/controls",
          "model_name": "ProgressStyleModel",
          "model_module_version": "1.5.0",
          "state": {
            "_model_module": "@jupyter-widgets/controls",
            "_model_module_version": "1.5.0",
            "_model_name": "ProgressStyleModel",
            "_view_count": null,
            "_view_module": "@jupyter-widgets/base",
            "_view_module_version": "1.2.0",
            "_view_name": "StyleView",
            "bar_color": null,
            "description_width": ""
          }
        },
        "17f61f0e475b4f07bd8315e32b790232": {
          "model_module": "@jupyter-widgets/base",
          "model_name": "LayoutModel",
          "model_module_version": "1.2.0",
          "state": {
            "_model_module": "@jupyter-widgets/base",
            "_model_module_version": "1.2.0",
            "_model_name": "LayoutModel",
            "_view_count": null,
            "_view_module": "@jupyter-widgets/base",
            "_view_module_version": "1.2.0",
            "_view_name": "LayoutView",
            "align_content": null,
            "align_items": null,
            "align_self": null,
            "border": null,
            "bottom": null,
            "display": null,
            "flex": null,
            "flex_flow": null,
            "grid_area": null,
            "grid_auto_columns": null,
            "grid_auto_flow": null,
            "grid_auto_rows": null,
            "grid_column": null,
            "grid_gap": null,
            "grid_row": null,
            "grid_template_areas": null,
            "grid_template_columns": null,
            "grid_template_rows": null,
            "height": null,
            "justify_content": null,
            "justify_items": null,
            "left": null,
            "margin": null,
            "max_height": null,
            "max_width": null,
            "min_height": null,
            "min_width": null,
            "object_fit": null,
            "object_position": null,
            "order": null,
            "overflow": null,
            "overflow_x": null,
            "overflow_y": null,
            "padding": null,
            "right": null,
            "top": null,
            "visibility": null,
            "width": null
          }
        },
        "bac4b88468d247438b42d817e83a1a66": {
          "model_module": "@jupyter-widgets/controls",
          "model_name": "DescriptionStyleModel",
          "model_module_version": "1.5.0",
          "state": {
            "_model_module": "@jupyter-widgets/controls",
            "_model_module_version": "1.5.0",
            "_model_name": "DescriptionStyleModel",
            "_view_count": null,
            "_view_module": "@jupyter-widgets/base",
            "_view_module_version": "1.2.0",
            "_view_name": "StyleView",
            "description_width": ""
          }
        }
      }
    }
  },
  "cells": [
    {
      "cell_type": "code",
      "execution_count": 3,
      "metadata": {
        "id": "_PfT-ZMNL0cL"
      },
      "outputs": [],
      "source": [
        "# needs Graphviz installed in OS\n",
        "!pip install -q pydot"
      ]
    },
    {
      "cell_type": "code",
      "source": [
        "%env TF_CPP}_MIN_LOG_LEVEL=3"
      ],
      "metadata": {
        "colab": {
          "base_uri": "https://localhost:8080/"
        },
        "id": "ugRYKSKFL_3q",
        "outputId": "5648d41d-ac02-4599-b4a6-2de4049d45be"
      },
      "execution_count": 4,
      "outputs": [
        {
          "output_type": "stream",
          "name": "stdout",
          "text": [
            "env: TF_CPP}_MIN_LOG_LEVEL=3\n"
          ]
        }
      ]
    },
    {
      "cell_type": "code",
      "source": [
        "import os\n",
        "import nltk\n",
        "import pickle\n",
        "import numpy as np\n",
        "import tensorflow as tf\n",
        "import matplotlib.pyplot as plt\n",
        "from PIL import Image\n",
        "from tqdm.notebook import tqdm\n",
        "from tensorflow.keras.models import Model\n",
        "from nltk.translate.bleu_score import corpus_bleu\n",
        "from tensorflow.keras.preprocessing.text import Tokenizer\n",
        "from tensorflow.keras.utils import to_categorical, plot_model\n",
        "from tensorflow.keras.preprocessing.sequence import pad_sequences\n",
        "from tensorflow.keras.applications.vgg16 import VGG16, preprocess_input\n",
        "from tensorflow.keras.preprocessing.image import load_img, img_to_array\n",
        "from tensorflow.keras.layers import Input, Dense, LSTM, Embedding, Dropout, add\n",
        "\n",
        "import warnings\n",
        "warnings.filterwarnings('ignore')"
      ],
      "metadata": {
        "id": "foXK7YcIM1Bx"
      },
      "execution_count": 5,
      "outputs": []
    },
    {
      "cell_type": "markdown",
      "source": [
        "# **Loading Dataset**"
      ],
      "metadata": {
        "id": "1kkRMXsHSeAP"
      }
    },
    {
      "cell_type": "code",
      "source": [
        "from google.colab import drive\n",
        "drive.mount('/content/drive')"
      ],
      "metadata": {
        "colab": {
          "base_uri": "https://localhost:8080/"
        },
        "id": "DIBv2xPqplzF",
        "outputId": "17aa7e72-de49-4fc4-a104-cc14c668f4cd"
      },
      "execution_count": null,
      "outputs": [
        {
          "output_type": "stream",
          "name": "stdout",
          "text": [
            "Mounted at /content/drive\n"
          ]
        }
      ]
    },
    {
      "cell_type": "code",
      "source": [
        "#Unzip dataset !unzip <path>\n",
        "!unzip /content/drive/MyDrive/Colab\\ Notebooks/archive.zip"
      ],
      "metadata": {
        "id": "nuO6t8hNShYv"
      },
      "execution_count": null,
      "outputs": []
    },
    {
      "cell_type": "markdown",
      "source": [
        "# **Resources Extracting**"
      ],
      "metadata": {
        "id": "GC_SsBMwVUUX"
      }
    },
    {
      "cell_type": "code",
      "source": [
        "vgg_model = VGG16()"
      ],
      "metadata": {
        "colab": {
          "base_uri": "https://localhost:8080/"
        },
        "id": "0i5yy27NS-wP",
        "outputId": "c9f97596-804a-411d-bfa0-22c990bc17a8"
      },
      "execution_count": null,
      "outputs": [
        {
          "output_type": "stream",
          "name": "stdout",
          "text": [
            "Downloading data from https://storage.googleapis.com/tensorflow/keras-applications/vgg16/vgg16_weights_tf_dim_ordering_tf_kernels.h5\n",
            "\u001b[1m553467096/553467096\u001b[0m \u001b[32m━━━━━━━━━━━━━━━━━━━━\u001b[0m\u001b[37m\u001b[0m \u001b[1m25s\u001b[0m 0us/step\n"
          ]
        }
      ]
    },
    {
      "cell_type": "code",
      "source": [
        "# Remove classification layers\n",
        "model = Model(inputs = vgg_model.inputs, outputs = vgg_model.layers[-2].output)"
      ],
      "metadata": {
        "id": "fgM7DlqZVj_p"
      },
      "execution_count": null,
      "outputs": []
    },
    {
      "cell_type": "code",
      "source": [
        "features = {}"
      ],
      "metadata": {
        "id": "iuRR-ZwrlXcw"
      },
      "execution_count": null,
      "outputs": []
    },
    {
      "cell_type": "code",
      "source": [
        "base_path = '/content'"
      ],
      "metadata": {
        "id": "qAVIGoKBmmht"
      },
      "execution_count": null,
      "outputs": []
    },
    {
      "cell_type": "code",
      "source": [
        "path = os.path.join(base_path, 'Images')"
      ],
      "metadata": {
        "id": "BG0zVQ-dlh5X"
      },
      "execution_count": null,
      "outputs": []
    },
    {
      "cell_type": "code",
      "source": [
        "%%time\n",
        "\n",
        "for img in tqdm(os.listdir(path)):\n",
        "  img_path = os.path.join(path, img)\n",
        "\n",
        "  image = load_img(img_path, target_size = (224, 224))\n",
        "\n",
        "  image = img_to_array(image)\n",
        "\n",
        "  # Create Batch dimension\n",
        "  image = image.reshape((1, image.shape[0], image.shape[1], image.shape[2]))\n",
        "\n",
        "  image = preprocess_input(image)\n",
        "\n",
        "  feature = model.predict(image, verbose = 0)\n",
        "\n",
        "  image_id = img.split('.')[0]\n",
        "\n",
        "  features[image_id] = feature"
      ],
      "metadata": {
        "colab": {
          "base_uri": "https://localhost:8080/",
          "height": 84,
          "referenced_widgets": [
            "21f316215f4c462da2da374597503684",
            "d5e69ae81410469c81d4a5d2659f2b99",
            "453b67b8d0c94b9bbfb8a1b18168842f",
            "d64b23cc9beb41e294b5e72b6df717a4",
            "cf65ccd0700c479f8ed7814956516871",
            "5aa7d36c36394261afe9d219f6fc5450",
            "aa59b23325954661a4ae9e3f6d352543",
            "0f51127292454da3a2c0027c681d9b90",
            "9c2965b818d14175b3b40a6b8ec1023d",
            "dffe397a606e4d71bab7b68224c57def",
            "ac3ff0cca99b463fbfd7dd5662554fe2"
          ]
        },
        "id": "vSnGcSOslvV1",
        "outputId": "c84ba3c6-24c7-4f1b-e1d6-31a1c06ef6f7"
      },
      "execution_count": null,
      "outputs": [
        {
          "output_type": "display_data",
          "data": {
            "text/plain": [
              "  0%|          | 0/8091 [00:00<?, ?it/s]"
            ],
            "application/vnd.jupyter.widget-view+json": {
              "version_major": 2,
              "version_minor": 0,
              "model_id": "21f316215f4c462da2da374597503684"
            }
          },
          "metadata": {}
        },
        {
          "output_type": "stream",
          "name": "stdout",
          "text": [
            "CPU times: user 10min 56s, sys: 15 s, total: 11min 11s\n",
            "Wall time: 12min 12s\n"
          ]
        }
      ]
    },
    {
      "cell_type": "code",
      "source": [
        "# Save features\n",
        "pickle.dump(features, open(os.path.join(base_path, 'features.pkl'), 'wb'))"
      ],
      "metadata": {
        "id": "yia8G2vvmSad"
      },
      "execution_count": null,
      "outputs": []
    },
    {
      "cell_type": "code",
      "source": [
        "# Load features\n",
        "with open(os.path.join(base_path, 'features.pkl'), 'rb') as f:\n",
        "  features = pickle.load(f)"
      ],
      "metadata": {
        "id": "F_wrOWLIm1q9"
      },
      "execution_count": null,
      "outputs": []
    },
    {
      "cell_type": "markdown",
      "source": [
        "# **Data Preprocessing**"
      ],
      "metadata": {
        "id": "j1KVMVUpoW51"
      }
    },
    {
      "cell_type": "code",
      "source": [
        "with open(os.path.join(base_path, 'captions.txt'), 'r') as f:\n",
        "  next(f)\n",
        "  captions_doc = f.read()"
      ],
      "metadata": {
        "id": "kxjkRoDxoaJV"
      },
      "execution_count": null,
      "outputs": []
    },
    {
      "cell_type": "code",
      "source": [
        "mapping = {}"
      ],
      "metadata": {
        "id": "apWWTvlfpYD9"
      },
      "execution_count": null,
      "outputs": []
    },
    {
      "cell_type": "code",
      "source": [
        "for line in tqdm(captions_doc.split('\\n')):\n",
        "  tokens = line.split(',')\n",
        "\n",
        "  if len(line) < 2:\n",
        "    continue\n",
        "\n",
        "  # Getting Image Id and caption\n",
        "  image_id, caption = tokens[0], tokens[1:]\n",
        "\n",
        "  image_id = image_id.split('.')[0]\n",
        "\n",
        "  caption = ' '.join(caption)\n",
        "\n",
        "  if image_id not in mapping:\n",
        "    mapping[image_id] = []\n",
        "\n",
        "  # Add caption in Image Id Dict\n",
        "  mapping[image_id].append(caption)"
      ],
      "metadata": {
        "colab": {
          "base_uri": "https://localhost:8080/",
          "height": 49,
          "referenced_widgets": [
            "a5ed919d66d24a109152a45789ab7581",
            "12d7795e4053477db02ccfb52c93812e",
            "55e994a9fec543a294f4e91cb97040f4",
            "63a0a898ca85498d957ce1e2f2eb9a73",
            "0e96d530fc004145a3974eb11e3d5880",
            "17335569059c48a2b4560f221076f91a",
            "eef7f5e7706d470cb2153eaf747f3df3",
            "003faa12585a486c85f2f061ed3695d1",
            "856975ece6404a0d8477480b45a2230b",
            "17f61f0e475b4f07bd8315e32b790232",
            "bac4b88468d247438b42d817e83a1a66"
          ]
        },
        "id": "PyOuV2tfqT0Z",
        "outputId": "a6bf13ae-4bb8-4d2c-c079-e100223b6ed4"
      },
      "execution_count": null,
      "outputs": [
        {
          "output_type": "display_data",
          "data": {
            "text/plain": [
              "  0%|          | 0/40456 [00:00<?, ?it/s]"
            ],
            "application/vnd.jupyter.widget-view+json": {
              "version_major": 2,
              "version_minor": 0,
              "model_id": "a5ed919d66d24a109152a45789ab7581"
            }
          },
          "metadata": {}
        }
      ]
    },
    {
      "cell_type": "code",
      "source": [
        "def clean_caption(mapping):\n",
        "  for key, captions in mapping.items():\n",
        "    for i in range(len(captions)):\n",
        "      caption = captions[i]\n",
        "\n",
        "      caption = caption.lower()\n",
        "\n",
        "      # Remove Special Characters\n",
        "      caption = caption.replace('[^A-Za-z]', '')\n",
        "\n",
        "      # Remove multiple whitespaces\n",
        "      caption = caption.replace('\\s+', ' ')\n",
        "\n",
        "      caption = '[CLS]' + ' '.join([word for word in caption.split() if len(word) > 1]) + '[SEP]'\n",
        "\n",
        "      captions[i] = caption\n",
        "\n",
        "  return mapping"
      ],
      "metadata": {
        "id": "2Uf4mS32rKhk"
      },
      "execution_count": null,
      "outputs": []
    },
    {
      "cell_type": "code",
      "source": [
        "mapping = clean_caption(mapping)"
      ],
      "metadata": {
        "id": "8fyW-vcms2sb"
      },
      "execution_count": null,
      "outputs": []
    },
    {
      "cell_type": "code",
      "source": [
        "all_captions = []\n",
        "\n",
        "for key in mapping:\n",
        "  for caption in mapping[key]:\n",
        "    all_captions.append(caption)"
      ],
      "metadata": {
        "id": "qV0NlVpvtMbs"
      },
      "execution_count": null,
      "outputs": []
    },
    {
      "cell_type": "code",
      "source": [
        "tokenizer = Tokenizer()\n",
        "\n",
        "tokenizer.fit_on_texts(all_captions)"
      ],
      "metadata": {
        "id": "nn1TXi0XtT18"
      },
      "execution_count": null,
      "outputs": []
    },
    {
      "cell_type": "code",
      "source": [
        "vocab_size = len(tokenizer.word_index) + 1\n",
        "\n",
        "max_length = max(len(caption.split()) for caption in all_captions)"
      ],
      "metadata": {
        "id": "OmXUK7Zvx-cj"
      },
      "execution_count": null,
      "outputs": []
    },
    {
      "cell_type": "code",
      "source": [
        "# Split data in Train and Test\n",
        "image_ids = list(mapping.keys())\n",
        "\n",
        "split = int(len(image_ids) * .90)\n",
        "\n",
        "train_data = image_ids[:split]\n",
        "test_data = image_ids[split:]"
      ],
      "metadata": {
        "id": "vh3iLi_vy12K"
      },
      "execution_count": null,
      "outputs": []
    },
    {
      "cell_type": "code",
      "source": [
        "# Prepare data to training\n",
        "def data_generator(data_keys, mapping, features, tokenizer, max_length, vocab_size, batch_size):\n",
        "  X1, X2, y = [], [], []\n",
        "\n",
        "  n = 0\n",
        "\n",
        "  while 1:\n",
        "    for key in data_keys:\n",
        "      n += 1\n",
        "\n",
        "      captions = mapping[key]\n",
        "\n",
        "      for caption in captions:\n",
        "        # Transform Text in Tokens\n",
        "        seq = tokenizer.texts_to_sequences([caption])[0]\n",
        "\n",
        "        # Create Couple of Input / Output sequences\n",
        "        for i in range(1, len(seq)):\n",
        "          in_seq, out_seq = seq[:i], seq[i]\n",
        "\n",
        "          # Fill Sequence with Pad Tokens\n",
        "          in_seq = pad_sequences([in_seq], maxlen = max_length, padding = 'post')[0]\n",
        "\n",
        "          out_seq = to_categorical([out_seq], num_classes = vocab_size)[0]\n",
        "\n",
        "          X1.append(features[key][0])\n",
        "          X2.append(in_seq)\n",
        "          y.append(out_seq)\n",
        "\n",
        "      if n == batch_size:\n",
        "\n",
        "        X1, X2, y = np.array(X1), np.array(X2), np.array(y)\n",
        "\n",
        "        # Return a Batch of data\n",
        "        yield (X1, X2), y\n",
        "\n",
        "        # Restore the lists for next batch\n",
        "        X1, X2, y = [], [], []\n",
        "\n",
        "        n = 0"
      ],
      "metadata": {
        "id": "sLG4YawBzELC"
      },
      "execution_count": null,
      "outputs": []
    },
    {
      "cell_type": "markdown",
      "source": [
        "# **Building the Model**"
      ],
      "metadata": {
        "id": "wgzjKVqU2oLa"
      }
    },
    {
      "cell_type": "code",
      "source": [
        "# Layer responsible for pixels\n",
        "input_1 = Input(shape = (4096,))\n",
        "\n",
        "drop_1 = Dropout(0.45)(input_1)\n",
        "\n",
        "dense_1 = Dense(256, activation = 'relu')(drop_1)"
      ],
      "metadata": {
        "id": "B4UKAJoE2qO6"
      },
      "execution_count": null,
      "outputs": []
    },
    {
      "cell_type": "code",
      "source": [
        "# Layer responsible for texts\n",
        "input_2 = Input(shape = (max_length,))\n",
        "\n",
        "seq = Embedding(vocab_size, 256, mask_zero = True)(input_2)\n",
        "\n",
        "drop_2 = Dropout(0.45)(seq)\n",
        "\n",
        "lstm = LSTM(256)(drop_2)\n",
        "\n",
        "decoder1 = add([dense_1, lstm])\n",
        "\n",
        "decoder2 = Dense(256, activation = 'relu')(decoder1)\n",
        "\n",
        "outputs = Dense(vocab_size, activation = 'softmax')(decoder2)"
      ],
      "metadata": {
        "id": "j0Fsrlj14Q1Y"
      },
      "execution_count": null,
      "outputs": []
    },
    {
      "cell_type": "code",
      "source": [
        "model = Model(inputs = [input_1, input_2], outputs = outputs)"
      ],
      "metadata": {
        "id": "_VWFei1C4-V5"
      },
      "execution_count": null,
      "outputs": []
    },
    {
      "cell_type": "code",
      "source": [
        "model.compile(loss = 'categorical_crossentropy', optimizer = 'adam')"
      ],
      "metadata": {
        "id": "uhlOp50g5IPp"
      },
      "execution_count": null,
      "outputs": []
    },
    {
      "cell_type": "code",
      "source": [
        "plot_model(model, show_shapes = True)"
      ],
      "metadata": {
        "id": "h0tCvXWK5VvB"
      },
      "execution_count": null,
      "outputs": []
    },
    {
      "cell_type": "markdown",
      "source": [
        "# **Training**"
      ],
      "metadata": {
        "id": "Jnona_qh6h9A"
      }
    },
    {
      "cell_type": "code",
      "source": [
        "epochs = 35\n",
        "batch_size = 32\n",
        "steps = len(train_data) // batch_size"
      ],
      "metadata": {
        "id": "I60Z40Cv6jpQ"
      },
      "execution_count": null,
      "outputs": []
    },
    {
      "cell_type": "code",
      "source": [
        "%%time\n",
        "\n",
        "for i in range(epochs):\n",
        "  generator = data_generator(train_data,\n",
        "                             mapping,\n",
        "                             features,\n",
        "                             tokenizer,\n",
        "                             max_length,\n",
        "                             vocab_size,\n",
        "                             batch_size)\n",
        "\n",
        "  model.fit(generator, epochs = 1, steps_per_epoch = steps, verbose = 1)"
      ],
      "metadata": {
        "id": "rEN2MyHQ60AJ"
      },
      "execution_count": null,
      "outputs": []
    },
    {
      "cell_type": "code",
      "source": [
        "model.save(os.path.join(base_path, 'model.h5'))"
      ],
      "metadata": {
        "id": "LMQS5yNE-3cx"
      },
      "execution_count": null,
      "outputs": []
    },
    {
      "cell_type": "markdown",
      "source": [
        "# **Evaluating Model**"
      ],
      "metadata": {
        "id": "yublcuutFIBV"
      }
    },
    {
      "cell_type": "code",
      "source": [
        "def idx_to_word(integer, tokenizer):\n",
        "  for word, index in tokenizer.word_index.items():\n",
        "    if index == integer:\n",
        "      return word\n",
        "\n",
        "  return None"
      ],
      "metadata": {
        "id": "CiMnwJuHFKku"
      },
      "execution_count": null,
      "outputs": []
    },
    {
      "cell_type": "code",
      "source": [
        "def predict_caption(model, image, tokenizer, max_length):\n",
        "  in_text = '[CLS]'\n",
        "\n",
        "  for i in range(max_length):\n",
        "    # Transform Text in Tokens\n",
        "    sequence = tokenizer.texts_to_sequences([in_text])[0]\n",
        "\n",
        "    # Fill Sequence with Pad Tokens\n",
        "    sequence = pad_sequences([sequence], maxlen = max_length)\n",
        "\n",
        "    # Predict Next Word\n",
        "    y_pred = model.predict([image, sequence], verbose = 0)\n",
        "\n",
        "    # Get Index with Max Probability\n",
        "    y_pred = np.argmax(y_pred)\n",
        "\n",
        "    # Get Word\n",
        "    word = idx_to_word(y_pred, tokenizer)\n",
        "\n",
        "    if word is None:\n",
        "      break\n",
        "\n",
        "    # Append Word\n",
        "    in_text += ' ' + word\n",
        "\n",
        "    if word == '[SEP]':\n",
        "      break\n",
        "\n",
        "  return in_text"
      ],
      "metadata": {
        "id": "XkjvudeVFa0d"
      },
      "execution_count": null,
      "outputs": []
    },
    {
      "cell_type": "code",
      "source": [
        "gt, predicted = [], []\n",
        "\n",
        "%%time\n",
        "\n",
        "for key in tqdm(test_data):\n",
        "  captions = mapping[key]\n",
        "\n",
        "  y_pred = predict_caption(model, features[key], tokenizer, max_length)\n",
        "\n",
        "  gt_captions = [caption.split() for caption in captions]\n",
        "\n",
        "  y_pred = y_pred.split()\n",
        "\n",
        "  gt.append(gt_captions)\n",
        "\n",
        "  predicted.append(y_pred)"
      ],
      "metadata": {
        "id": "pgbS3mR6GDtl"
      },
      "execution_count": null,
      "outputs": []
    },
    {
      "cell_type": "code",
      "source": [
        "# Score regarding only unigrams\n",
        "print(f'BLEU-1: {corpus_bleu(gt, predicted, weights = (1.0, 0, 0, 0)):.4f}')\n",
        "\n",
        "# Score regarding bi-grams\n",
        "print(f'BLEU-2: {corpus_bleu(gt, predicted, weights = (0.5, 0.5, 0, 0)):.4f}')"
      ],
      "metadata": {
        "id": "Vb2MI-YeGkf-"
      },
      "execution_count": null,
      "outputs": []
    },
    {
      "cell_type": "markdown",
      "source": [
        "# **Deploy**"
      ],
      "metadata": {
        "id": "byBUZ6GEHbyW"
      }
    },
    {
      "cell_type": "code",
      "source": [
        "def generate_caption(image_path, features, tokenizer, max_length):\n",
        "  image = Image.open(image_path)\n",
        "\n",
        "  y_pred = predict_caption(model, features[image_id], tokenizer, max_length)\n",
        "\n",
        "  y_pred = y_pred.replace('[CLS]', '').replace('[SEP]', '').strip()\n",
        "\n",
        "  return y_pred, image"
      ],
      "metadata": {
        "id": "r-S4u2pwHed2"
      },
      "execution_count": null,
      "outputs": []
    },
    {
      "cell_type": "code",
      "source": [
        "image_name = '1001773457_577c3a7d70.jpg'\n",
        "image_path = os.path.join(base_path, 'Images', image_name)\n",
        "result, image = generate_caption(image_path, features, tokenizer, max_length)\n",
        "\n",
        "print(result)\n",
        "plt.imshow(image)"
      ],
      "metadata": {
        "id": "weJclXetJVZX"
      },
      "execution_count": null,
      "outputs": []
    }
  ]
}